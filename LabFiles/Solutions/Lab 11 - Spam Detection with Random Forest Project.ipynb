{
 "cells": [
  {
   "cell_type": "code",
   "execution_count": 1,
   "metadata": {},
   "outputs": [],
   "source": [
    "import sklearn as sk\n",
    "import numpy as np\n",
    "import pandas as pd\n",
    "from sklearn.model_selection import train_test_split\n",
    "import sklearn.metrics as metrics"
   ]
  },
  {
   "cell_type": "code",
   "execution_count": 2,
   "metadata": {},
   "outputs": [
    {
     "data": {
      "text/plain": [
       "array([[699, 123],\n",
       "       [159, 400]], dtype=int64)"
      ]
     },
     "execution_count": 2,
     "metadata": {},
     "output_type": "execute_result"
    }
   ],
   "source": [
    "input_file = 'http://bit.ly/2O7Islk'\n",
    "all = pd.read_csv(input_file, header=None, sep=',')\n",
    "spamdb = all.loc[:, 0:56]\n",
    "labels = all[57]\n",
    "\n",
    "data_train, data_test, label_train, label_test = train_test_split(spamdb, labels, test_size=0.3, random_state=0)\n",
    "\n",
    "from sklearn.neighbors import KNeighborsClassifier\n",
    "knnModel = KNeighborsClassifier(n_neighbors=3)\n",
    "knnModel.fit(data_train, label_train)\n",
    "label_predict = knnModel.predict(data_test)\n",
    "metrics.confusion_matrix(label_test, label_predict)"
   ]
  },
  {
   "cell_type": "code",
   "execution_count": 3,
   "metadata": {},
   "outputs": [
    {
     "name": "stdout",
     "output_type": "stream",
     "text": [
      "0.8894409937888199 0.7958001448225923\n"
     ]
    }
   ],
   "source": [
    "score_knn_train = knnModel.score(data_train, label_train)\n",
    "score_knn_test = knnModel.score(data_test, label_test)\n",
    "print (score_knn_train, score_knn_test)"
   ]
  },
  {
   "cell_type": "code",
   "execution_count": 4,
   "metadata": {},
   "outputs": [
    {
     "name": "stdout",
     "output_type": "stream",
     "text": [
      "0.9850931677018634 0.9225199131064447\n"
     ]
    }
   ],
   "source": [
    "from sklearn.ensemble import RandomForestClassifier\n",
    "\n",
    "RFModel = RandomForestClassifier(n_estimators=3, random_state=1).fit(data_train, label_train)\n",
    "\n",
    "label_predict = RFModel.predict(data_test)\n",
    "metrics.confusion_matrix(label_test, label_predict)\n",
    "\n",
    "score_rf_train = RFModel.score(data_train, label_train)\n",
    "score_rf_test = RFModel.score(data_test, label_test)\n",
    "print (score_rf_train, score_rf_test)"
   ]
  },
  {
   "cell_type": "code",
   "execution_count": 5,
   "metadata": {},
   "outputs": [
    {
     "name": "stdout",
     "output_type": "stream",
     "text": [
      "91.8 ms ± 2.48 ms per loop (mean ± std. dev. of 7 runs, 10 loops each)\n",
      "2.03 ms ± 65.6 µs per loop (mean ± std. dev. of 7 runs, 100 loops each)\n"
     ]
    }
   ],
   "source": [
    "%timeit knnModel.predict(data_test) \n",
    "%timeit RFModel.predict(data_test)"
   ]
  },
  {
   "cell_type": "code",
   "execution_count": null,
   "metadata": {},
   "outputs": [],
   "source": []
  }
 ],
 "metadata": {
  "kernelspec": {
   "display_name": "Python 3",
   "language": "python",
   "name": "python3"
  },
  "language_info": {
   "codemirror_mode": {
    "name": "ipython",
    "version": 3
   },
   "file_extension": ".py",
   "mimetype": "text/x-python",
   "name": "python",
   "nbconvert_exporter": "python",
   "pygments_lexer": "ipython3",
   "version": "3.7.4"
  }
 },
 "nbformat": 4,
 "nbformat_minor": 2
}
