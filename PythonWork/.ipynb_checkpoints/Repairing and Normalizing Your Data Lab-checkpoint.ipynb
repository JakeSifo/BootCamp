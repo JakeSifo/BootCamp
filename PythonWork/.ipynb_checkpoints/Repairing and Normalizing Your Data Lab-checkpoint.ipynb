{
 "cells": [
  {
   "cell_type": "code",
   "execution_count": 1,
   "id": "ac482c15",
   "metadata": {},
   "outputs": [],
   "source": [
    "import pandas as pd\n",
    "import numpy as np"
   ]
  },
  {
   "cell_type": "code",
   "execution_count": 2,
   "id": "25a2254d",
   "metadata": {},
   "outputs": [
    {
     "data": {
      "text/html": [
       "<div>\n",
       "<style scoped>\n",
       "    .dataframe tbody tr th:only-of-type {\n",
       "        vertical-align: middle;\n",
       "    }\n",
       "\n",
       "    .dataframe tbody tr th {\n",
       "        vertical-align: top;\n",
       "    }\n",
       "\n",
       "    .dataframe thead th {\n",
       "        text-align: right;\n",
       "    }\n",
       "</style>\n",
       "<table border=\"1\" class=\"dataframe\">\n",
       "  <thead>\n",
       "    <tr style=\"text-align: right;\">\n",
       "      <th></th>\n",
       "      <th>C1</th>\n",
       "      <th>C2</th>\n",
       "      <th>C3</th>\n",
       "      <th>C4</th>\n",
       "    </tr>\n",
       "  </thead>\n",
       "  <tbody>\n",
       "    <tr>\n",
       "      <th>0</th>\n",
       "      <td>11.0</td>\n",
       "      <td>12.0</td>\n",
       "      <td>13.0</td>\n",
       "      <td>14.0</td>\n",
       "    </tr>\n",
       "    <tr>\n",
       "      <th>1</th>\n",
       "      <td>NaN</td>\n",
       "      <td>22.0</td>\n",
       "      <td>NaN</td>\n",
       "      <td>24.0</td>\n",
       "    </tr>\n",
       "    <tr>\n",
       "      <th>2</th>\n",
       "      <td>NaN</td>\n",
       "      <td>NaN</td>\n",
       "      <td>33.0</td>\n",
       "      <td>NaN</td>\n",
       "    </tr>\n",
       "    <tr>\n",
       "      <th>3</th>\n",
       "      <td>41.0</td>\n",
       "      <td>42.0</td>\n",
       "      <td>43.0</td>\n",
       "      <td>NaN</td>\n",
       "    </tr>\n",
       "    <tr>\n",
       "      <th>4</th>\n",
       "      <td>NaN</td>\n",
       "      <td>52.0</td>\n",
       "      <td>NaN</td>\n",
       "      <td>54.0</td>\n",
       "    </tr>\n",
       "    <tr>\n",
       "      <th>5</th>\n",
       "      <td>61.0</td>\n",
       "      <td>62.0</td>\n",
       "      <td>63.0</td>\n",
       "      <td>NaN</td>\n",
       "    </tr>\n",
       "    <tr>\n",
       "      <th>6</th>\n",
       "      <td>NaN</td>\n",
       "      <td>72.0</td>\n",
       "      <td>73.0</td>\n",
       "      <td>74.0</td>\n",
       "    </tr>\n",
       "    <tr>\n",
       "      <th>7</th>\n",
       "      <td>81.0</td>\n",
       "      <td>82.0</td>\n",
       "      <td>83.0</td>\n",
       "      <td>84.0</td>\n",
       "    </tr>\n",
       "  </tbody>\n",
       "</table>\n",
       "</div>"
      ],
      "text/plain": [
       "     C1    C2    C3    C4\n",
       "0  11.0  12.0  13.0  14.0\n",
       "1   NaN  22.0   NaN  24.0\n",
       "2   NaN   NaN  33.0   NaN\n",
       "3  41.0  42.0  43.0   NaN\n",
       "4   NaN  52.0   NaN  54.0\n",
       "5  61.0  62.0  63.0   NaN\n",
       "6   NaN  72.0  73.0  74.0\n",
       "7  81.0  82.0  83.0  84.0"
      ]
     },
     "execution_count": 2,
     "metadata": {},
     "output_type": "execute_result"
    }
   ],
   "source": [
    "input_file = 'http://bit.ly/36gJKAM'\n",
    "dataSet  = pd.read_csv(input_file, header=None, \n",
    "                    names = ['C1', 'C2', 'C3', 'C4']); dataSet"
   ]
  },
  {
   "cell_type": "code",
   "execution_count": 3,
   "id": "1b84f6ba",
   "metadata": {},
   "outputs": [
    {
     "data": {
      "text/plain": [
       "C1    4\n",
       "C2    1\n",
       "C3    2\n",
       "C4    3\n",
       "dtype: int64"
      ]
     },
     "execution_count": 3,
     "metadata": {},
     "output_type": "execute_result"
    }
   ],
   "source": [
    "dataSet.isnull().sum(axis = 0)"
   ]
  },
  {
   "cell_type": "code",
   "execution_count": 4,
   "id": "9dd4fc1a",
   "metadata": {},
   "outputs": [
    {
     "data": {
      "text/plain": [
       "C1    0.500\n",
       "C2    0.125\n",
       "C3    0.250\n",
       "C4    0.375\n",
       "dtype: float64"
      ]
     },
     "execution_count": 4,
     "metadata": {},
     "output_type": "execute_result"
    }
   ],
   "source": [
    "dataSet.isnull().sum(axis = 0) / dataSet.shape[0]"
   ]
  },
  {
   "cell_type": "code",
   "execution_count": 5,
   "id": "5f4bac31",
   "metadata": {},
   "outputs": [],
   "source": [
    "dataSet2 = dataSet.drop('C1', axis=1) "
   ]
  },
  {
   "cell_type": "code",
   "execution_count": 6,
   "id": "797b62f9",
   "metadata": {},
   "outputs": [
    {
     "data": {
      "text/plain": [
       "(8, 3)"
      ]
     },
     "execution_count": 6,
     "metadata": {},
     "output_type": "execute_result"
    }
   ],
   "source": [
    "dataSet2.shape"
   ]
  },
  {
   "cell_type": "code",
   "execution_count": 7,
   "id": "a8e62eb9",
   "metadata": {},
   "outputs": [
    {
     "data": {
      "text/plain": [
       "0    0\n",
       "1    1\n",
       "2    2\n",
       "3    1\n",
       "4    1\n",
       "5    1\n",
       "6    0\n",
       "7    0\n",
       "dtype: int64"
      ]
     },
     "execution_count": 7,
     "metadata": {},
     "output_type": "execute_result"
    }
   ],
   "source": [
    "dataSet2.isnull().sum(axis = 1)"
   ]
  },
  {
   "cell_type": "code",
   "execution_count": 8,
   "id": "e0c7ab83",
   "metadata": {},
   "outputs": [],
   "source": [
    "dataSet3 = dataSet2.drop(2, axis=0)"
   ]
  },
  {
   "cell_type": "code",
   "execution_count": 14,
   "id": "e721ebf6",
   "metadata": {},
   "outputs": [
    {
     "data": {
      "text/html": [
       "<div>\n",
       "<style scoped>\n",
       "    .dataframe tbody tr th:only-of-type {\n",
       "        vertical-align: middle;\n",
       "    }\n",
       "\n",
       "    .dataframe tbody tr th {\n",
       "        vertical-align: top;\n",
       "    }\n",
       "\n",
       "    .dataframe thead th {\n",
       "        text-align: right;\n",
       "    }\n",
       "</style>\n",
       "<table border=\"1\" class=\"dataframe\">\n",
       "  <thead>\n",
       "    <tr style=\"text-align: right;\">\n",
       "      <th></th>\n",
       "      <th>C2</th>\n",
       "      <th>C3</th>\n",
       "      <th>C4</th>\n",
       "    </tr>\n",
       "  </thead>\n",
       "  <tbody>\n",
       "    <tr>\n",
       "      <th>0</th>\n",
       "      <td>12.0</td>\n",
       "      <td>13.0</td>\n",
       "      <td>14.0</td>\n",
       "    </tr>\n",
       "    <tr>\n",
       "      <th>1</th>\n",
       "      <td>22.0</td>\n",
       "      <td>NaN</td>\n",
       "      <td>24.0</td>\n",
       "    </tr>\n",
       "    <tr>\n",
       "      <th>3</th>\n",
       "      <td>42.0</td>\n",
       "      <td>43.0</td>\n",
       "      <td>NaN</td>\n",
       "    </tr>\n",
       "    <tr>\n",
       "      <th>4</th>\n",
       "      <td>52.0</td>\n",
       "      <td>NaN</td>\n",
       "      <td>54.0</td>\n",
       "    </tr>\n",
       "    <tr>\n",
       "      <th>5</th>\n",
       "      <td>62.0</td>\n",
       "      <td>63.0</td>\n",
       "      <td>NaN</td>\n",
       "    </tr>\n",
       "    <tr>\n",
       "      <th>6</th>\n",
       "      <td>72.0</td>\n",
       "      <td>73.0</td>\n",
       "      <td>74.0</td>\n",
       "    </tr>\n",
       "    <tr>\n",
       "      <th>7</th>\n",
       "      <td>82.0</td>\n",
       "      <td>83.0</td>\n",
       "      <td>84.0</td>\n",
       "    </tr>\n",
       "  </tbody>\n",
       "</table>\n",
       "</div>"
      ],
      "text/plain": [
       "     C2    C3    C4\n",
       "0  12.0  13.0  14.0\n",
       "1  22.0   NaN  24.0\n",
       "3  42.0  43.0   NaN\n",
       "4  52.0   NaN  54.0\n",
       "5  62.0  63.0   NaN\n",
       "6  72.0  73.0  74.0\n",
       "7  82.0  83.0  84.0"
      ]
     },
     "execution_count": 14,
     "metadata": {},
     "output_type": "execute_result"
    }
   ],
   "source": [
    "dataSet4 = dataSet3.copy(); dataSet4"
   ]
  },
  {
   "cell_type": "code",
   "execution_count": 16,
   "id": "d515eaa2",
   "metadata": {},
   "outputs": [
    {
     "data": {
      "text/plain": [
       "0    13.0\n",
       "1    28.0\n",
       "3    43.0\n",
       "4    53.0\n",
       "5    63.0\n",
       "6    73.0\n",
       "7    83.0\n",
       "Name: C3, dtype: float64"
      ]
     },
     "execution_count": 16,
     "metadata": {},
     "output_type": "execute_result"
    }
   ],
   "source": [
    "dataSet4.C3.interpolate (inplace=True); dataSet4.C3"
   ]
  },
  {
   "cell_type": "code",
   "execution_count": 15,
   "id": "d9f3cc0f",
   "metadata": {},
   "outputs": [
    {
     "data": {
      "text/plain": [
       "0    14.0\n",
       "1    24.0\n",
       "3    54.0\n",
       "4    54.0\n",
       "5    54.0\n",
       "6    74.0\n",
       "7    84.0\n",
       "Name: C4, dtype: float64"
      ]
     },
     "execution_count": 15,
     "metadata": {},
     "output_type": "execute_result"
    }
   ],
   "source": [
    "dataSet4.C4.interpolate (method='nearest', inplace=True); dataSet4.C4"
   ]
  },
  {
   "cell_type": "code",
   "execution_count": 17,
   "id": "ec45dd0d",
   "metadata": {},
   "outputs": [
    {
     "data": {
      "text/html": [
       "<div>\n",
       "<style scoped>\n",
       "    .dataframe tbody tr th:only-of-type {\n",
       "        vertical-align: middle;\n",
       "    }\n",
       "\n",
       "    .dataframe tbody tr th {\n",
       "        vertical-align: top;\n",
       "    }\n",
       "\n",
       "    .dataframe thead th {\n",
       "        text-align: right;\n",
       "    }\n",
       "</style>\n",
       "<table border=\"1\" class=\"dataframe\">\n",
       "  <thead>\n",
       "    <tr style=\"text-align: right;\">\n",
       "      <th></th>\n",
       "      <th>C2</th>\n",
       "      <th>C3</th>\n",
       "      <th>C4</th>\n",
       "    </tr>\n",
       "  </thead>\n",
       "  <tbody>\n",
       "    <tr>\n",
       "      <th>0</th>\n",
       "      <td>12.0</td>\n",
       "      <td>13.0</td>\n",
       "      <td>14.0</td>\n",
       "    </tr>\n",
       "    <tr>\n",
       "      <th>1</th>\n",
       "      <td>22.0</td>\n",
       "      <td>55.0</td>\n",
       "      <td>24.0</td>\n",
       "    </tr>\n",
       "    <tr>\n",
       "      <th>3</th>\n",
       "      <td>42.0</td>\n",
       "      <td>43.0</td>\n",
       "      <td>NaN</td>\n",
       "    </tr>\n",
       "    <tr>\n",
       "      <th>4</th>\n",
       "      <td>52.0</td>\n",
       "      <td>55.0</td>\n",
       "      <td>54.0</td>\n",
       "    </tr>\n",
       "    <tr>\n",
       "      <th>5</th>\n",
       "      <td>62.0</td>\n",
       "      <td>63.0</td>\n",
       "      <td>NaN</td>\n",
       "    </tr>\n",
       "    <tr>\n",
       "      <th>6</th>\n",
       "      <td>72.0</td>\n",
       "      <td>73.0</td>\n",
       "      <td>74.0</td>\n",
       "    </tr>\n",
       "    <tr>\n",
       "      <th>7</th>\n",
       "      <td>82.0</td>\n",
       "      <td>83.0</td>\n",
       "      <td>84.0</td>\n",
       "    </tr>\n",
       "  </tbody>\n",
       "</table>\n",
       "</div>"
      ],
      "text/plain": [
       "     C2    C3    C4\n",
       "0  12.0  13.0  14.0\n",
       "1  22.0  55.0  24.0\n",
       "3  42.0  43.0   NaN\n",
       "4  52.0  55.0  54.0\n",
       "5  62.0  63.0   NaN\n",
       "6  72.0  73.0  74.0\n",
       "7  82.0  83.0  84.0"
      ]
     },
     "execution_count": 17,
     "metadata": {},
     "output_type": "execute_result"
    }
   ],
   "source": [
    "dataSet5 = dataSet3.copy()\n",
    "dataSet5.C3.fillna(dataSet5.C3.mean(), inplace=True)\n",
    "dataSet5"
   ]
  },
  {
   "cell_type": "code",
   "execution_count": 18,
   "id": "4ce1bbd9",
   "metadata": {},
   "outputs": [],
   "source": [
    "dataSet5.index = range(dataSet5.shape[0])"
   ]
  },
  {
   "cell_type": "code",
   "execution_count": 23,
   "id": "d110fe9f",
   "metadata": {},
   "outputs": [
    {
     "name": "stdout",
     "output_type": "stream",
     "text": [
      "C2    42.0\n",
      "C3    43.0\n",
      "C4    42.5\n",
      "Name: 2, dtype: float64\n",
      "...................\n",
      "42.5\n"
     ]
    }
   ],
   "source": [
    "print (dataSet5.iloc[2])\n",
    "print ('...................')\n",
    "print (dataSet5.iloc[2].mean())"
   ]
  },
  {
   "cell_type": "code",
   "execution_count": 21,
   "id": "87155309",
   "metadata": {},
   "outputs": [
    {
     "data": {
      "text/html": [
       "<div>\n",
       "<style scoped>\n",
       "    .dataframe tbody tr th:only-of-type {\n",
       "        vertical-align: middle;\n",
       "    }\n",
       "\n",
       "    .dataframe tbody tr th {\n",
       "        vertical-align: top;\n",
       "    }\n",
       "\n",
       "    .dataframe thead th {\n",
       "        text-align: right;\n",
       "    }\n",
       "</style>\n",
       "<table border=\"1\" class=\"dataframe\">\n",
       "  <thead>\n",
       "    <tr style=\"text-align: right;\">\n",
       "      <th></th>\n",
       "      <th>C2</th>\n",
       "      <th>C3</th>\n",
       "      <th>C4</th>\n",
       "    </tr>\n",
       "  </thead>\n",
       "  <tbody>\n",
       "    <tr>\n",
       "      <th>0</th>\n",
       "      <td>12.0</td>\n",
       "      <td>13.0</td>\n",
       "      <td>14.0</td>\n",
       "    </tr>\n",
       "    <tr>\n",
       "      <th>1</th>\n",
       "      <td>22.0</td>\n",
       "      <td>55.0</td>\n",
       "      <td>24.0</td>\n",
       "    </tr>\n",
       "    <tr>\n",
       "      <th>2</th>\n",
       "      <td>42.0</td>\n",
       "      <td>43.0</td>\n",
       "      <td>42.5</td>\n",
       "    </tr>\n",
       "    <tr>\n",
       "      <th>3</th>\n",
       "      <td>52.0</td>\n",
       "      <td>55.0</td>\n",
       "      <td>54.0</td>\n",
       "    </tr>\n",
       "    <tr>\n",
       "      <th>4</th>\n",
       "      <td>62.0</td>\n",
       "      <td>63.0</td>\n",
       "      <td>NaN</td>\n",
       "    </tr>\n",
       "    <tr>\n",
       "      <th>5</th>\n",
       "      <td>72.0</td>\n",
       "      <td>73.0</td>\n",
       "      <td>74.0</td>\n",
       "    </tr>\n",
       "    <tr>\n",
       "      <th>6</th>\n",
       "      <td>82.0</td>\n",
       "      <td>83.0</td>\n",
       "      <td>84.0</td>\n",
       "    </tr>\n",
       "  </tbody>\n",
       "</table>\n",
       "</div>"
      ],
      "text/plain": [
       "     C2    C3    C4\n",
       "0  12.0  13.0  14.0\n",
       "1  22.0  55.0  24.0\n",
       "2  42.0  43.0  42.5\n",
       "3  52.0  55.0  54.0\n",
       "4  62.0  63.0   NaN\n",
       "5  72.0  73.0  74.0\n",
       "6  82.0  83.0  84.0"
      ]
     },
     "execution_count": 21,
     "metadata": {},
     "output_type": "execute_result"
    }
   ],
   "source": [
    "dataSet5.iloc[2].fillna(dataSet5.iloc[2].mean(), inplace=True); dataSet5"
   ]
  },
  {
   "cell_type": "code",
   "execution_count": 24,
   "id": "13e8f467",
   "metadata": {},
   "outputs": [],
   "source": [
    "df_map = dataSet5.copy()\n",
    "df_map.C2  = df_map.C2.map(\n",
    "\tlambda c: 'strong' if c > 60 else 'medium' if c > 40 else 'weak')"
   ]
  },
  {
   "cell_type": "code",
   "execution_count": 26,
   "id": "9ed6eb8f",
   "metadata": {},
   "outputs": [
    {
     "data": {
      "text/html": [
       "<div>\n",
       "<style scoped>\n",
       "    .dataframe tbody tr th:only-of-type {\n",
       "        vertical-align: middle;\n",
       "    }\n",
       "\n",
       "    .dataframe tbody tr th {\n",
       "        vertical-align: top;\n",
       "    }\n",
       "\n",
       "    .dataframe thead th {\n",
       "        text-align: right;\n",
       "    }\n",
       "</style>\n",
       "<table border=\"1\" class=\"dataframe\">\n",
       "  <thead>\n",
       "    <tr style=\"text-align: right;\">\n",
       "      <th></th>\n",
       "      <th>C2</th>\n",
       "      <th>C3</th>\n",
       "      <th>C4</th>\n",
       "    </tr>\n",
       "  </thead>\n",
       "  <tbody>\n",
       "    <tr>\n",
       "      <th>0</th>\n",
       "      <td>2</td>\n",
       "      <td>13.0</td>\n",
       "      <td>14.0</td>\n",
       "    </tr>\n",
       "    <tr>\n",
       "      <th>1</th>\n",
       "      <td>2</td>\n",
       "      <td>55.0</td>\n",
       "      <td>24.0</td>\n",
       "    </tr>\n",
       "    <tr>\n",
       "      <th>2</th>\n",
       "      <td>0</td>\n",
       "      <td>43.0</td>\n",
       "      <td>42.5</td>\n",
       "    </tr>\n",
       "    <tr>\n",
       "      <th>3</th>\n",
       "      <td>0</td>\n",
       "      <td>55.0</td>\n",
       "      <td>54.0</td>\n",
       "    </tr>\n",
       "    <tr>\n",
       "      <th>4</th>\n",
       "      <td>1</td>\n",
       "      <td>63.0</td>\n",
       "      <td>NaN</td>\n",
       "    </tr>\n",
       "    <tr>\n",
       "      <th>5</th>\n",
       "      <td>1</td>\n",
       "      <td>73.0</td>\n",
       "      <td>74.0</td>\n",
       "    </tr>\n",
       "    <tr>\n",
       "      <th>6</th>\n",
       "      <td>1</td>\n",
       "      <td>83.0</td>\n",
       "      <td>84.0</td>\n",
       "    </tr>\n",
       "  </tbody>\n",
       "</table>\n",
       "</div>"
      ],
      "text/plain": [
       "   C2    C3    C4\n",
       "0   2  13.0  14.0\n",
       "1   2  55.0  24.0\n",
       "2   0  43.0  42.5\n",
       "3   0  55.0  54.0\n",
       "4   1  63.0   NaN\n",
       "5   1  73.0  74.0\n",
       "6   1  83.0  84.0"
      ]
     },
     "execution_count": 26,
     "metadata": {},
     "output_type": "execute_result"
    }
   ],
   "source": [
    "from sklearn.preprocessing import LabelEncoder\n",
    "df_lbl_enc = df_map.copy()\n",
    "df_lbl_enc.C2 = LabelEncoder().fit_transform ( df_lbl_enc.C2 ); df_lbl_enc"
   ]
  },
  {
   "cell_type": "code",
   "execution_count": 27,
   "id": "40ad32bd",
   "metadata": {},
   "outputs": [
    {
     "data": {
      "text/plain": [
       "0    0\n",
       "1    0\n",
       "2    1\n",
       "3    1\n",
       "4    2\n",
       "5    2\n",
       "6    2\n",
       "Name: C2, dtype: int64"
      ]
     },
     "execution_count": 27,
     "metadata": {},
     "output_type": "execute_result"
    }
   ],
   "source": [
    "map_dic = {'weak': 0, 'medium': 1, 'strong':2}\n",
    "# This will create the \"mapping\"\n",
    "# Use the above mapping in the map function:\n",
    "df_map.copy()['C2'].map(map_dic)"
   ]
  },
  {
   "cell_type": "code",
   "execution_count": 28,
   "id": "08c4d6ff",
   "metadata": {},
   "outputs": [],
   "source": [
    "from sklearn import preprocessing"
   ]
  },
  {
   "cell_type": "code",
   "execution_count": 29,
   "id": "bd6eab28",
   "metadata": {},
   "outputs": [
    {
     "data": {
      "text/plain": [
       "array([[-1.56501609, -2.00227144, -1.38688302],\n",
       "       [-1.1436656 ,  0.        , -0.98777999],\n",
       "       [-0.30096463, -0.57207755, -0.24943939],\n",
       "       [ 0.12038585,  0.        ,  0.20952909],\n",
       "       [ 0.54173634,  0.38138504,         nan],\n",
       "       [ 0.96308682,  0.85811633,  1.00773514],\n",
       "       [ 1.38443731,  1.33484762,  1.40683817]])"
      ]
     },
     "execution_count": 29,
     "metadata": {},
     "output_type": "execute_result"
    }
   ],
   "source": [
    "dataSet5_scaled = preprocessing.scale(dataSet5); dataSet5_scaled"
   ]
  },
  {
   "cell_type": "code",
   "execution_count": 30,
   "id": "5b62a6ed",
   "metadata": {},
   "outputs": [],
   "source": [
    "df = pd.DataFrame (dataSet5_scaled, columns=['C1', 'C2', 'C3'])"
   ]
  },
  {
   "cell_type": "code",
   "execution_count": 31,
   "id": "f5737c8c",
   "metadata": {},
   "outputs": [
    {
     "data": {
      "text/plain": [
       "C1   -2.220446e-16\n",
       "C2    3.172066e-17\n",
       "C3    3.700743e-17\n",
       "dtype: float64"
      ]
     },
     "execution_count": 31,
     "metadata": {},
     "output_type": "execute_result"
    }
   ],
   "source": [
    "df.std()\n",
    "df.mean()"
   ]
  },
  {
   "cell_type": "code",
   "execution_count": 32,
   "id": "5f8d06b8",
   "metadata": {},
   "outputs": [
    {
     "data": {
      "text/html": [
       "<div>\n",
       "<style scoped>\n",
       "    .dataframe tbody tr th:only-of-type {\n",
       "        vertical-align: middle;\n",
       "    }\n",
       "\n",
       "    .dataframe tbody tr th {\n",
       "        vertical-align: top;\n",
       "    }\n",
       "\n",
       "    .dataframe thead th {\n",
       "        text-align: right;\n",
       "    }\n",
       "</style>\n",
       "<table border=\"1\" class=\"dataframe\">\n",
       "  <thead>\n",
       "    <tr style=\"text-align: right;\">\n",
       "      <th></th>\n",
       "      <th>C1</th>\n",
       "      <th>C2</th>\n",
       "      <th>C3</th>\n",
       "    </tr>\n",
       "  </thead>\n",
       "  <tbody>\n",
       "    <tr>\n",
       "      <th>count</th>\n",
       "      <td>7.000000e+00</td>\n",
       "      <td>7.000000e+00</td>\n",
       "      <td>6.000000e+00</td>\n",
       "    </tr>\n",
       "    <tr>\n",
       "      <th>mean</th>\n",
       "      <td>-2.220446e-16</td>\n",
       "      <td>3.172066e-17</td>\n",
       "      <td>3.700743e-17</td>\n",
       "    </tr>\n",
       "    <tr>\n",
       "      <th>std</th>\n",
       "      <td>1.080123e+00</td>\n",
       "      <td>1.080123e+00</td>\n",
       "      <td>1.095445e+00</td>\n",
       "    </tr>\n",
       "    <tr>\n",
       "      <th>min</th>\n",
       "      <td>-1.565016e+00</td>\n",
       "      <td>-2.002271e+00</td>\n",
       "      <td>-1.386883e+00</td>\n",
       "    </tr>\n",
       "    <tr>\n",
       "      <th>25%</th>\n",
       "      <td>-7.223151e-01</td>\n",
       "      <td>-2.860388e-01</td>\n",
       "      <td>-8.031948e-01</td>\n",
       "    </tr>\n",
       "    <tr>\n",
       "      <th>50%</th>\n",
       "      <td>1.203859e-01</td>\n",
       "      <td>0.000000e+00</td>\n",
       "      <td>-1.995515e-02</td>\n",
       "    </tr>\n",
       "    <tr>\n",
       "      <th>75%</th>\n",
       "      <td>7.524116e-01</td>\n",
       "      <td>6.197507e-01</td>\n",
       "      <td>8.081836e-01</td>\n",
       "    </tr>\n",
       "    <tr>\n",
       "      <th>max</th>\n",
       "      <td>1.384437e+00</td>\n",
       "      <td>1.334848e+00</td>\n",
       "      <td>1.406838e+00</td>\n",
       "    </tr>\n",
       "  </tbody>\n",
       "</table>\n",
       "</div>"
      ],
      "text/plain": [
       "                 C1            C2            C3\n",
       "count  7.000000e+00  7.000000e+00  6.000000e+00\n",
       "mean  -2.220446e-16  3.172066e-17  3.700743e-17\n",
       "std    1.080123e+00  1.080123e+00  1.095445e+00\n",
       "min   -1.565016e+00 -2.002271e+00 -1.386883e+00\n",
       "25%   -7.223151e-01 -2.860388e-01 -8.031948e-01\n",
       "50%    1.203859e-01  0.000000e+00 -1.995515e-02\n",
       "75%    7.524116e-01  6.197507e-01  8.081836e-01\n",
       "max    1.384437e+00  1.334848e+00  1.406838e+00"
      ]
     },
     "execution_count": 32,
     "metadata": {},
     "output_type": "execute_result"
    }
   ],
   "source": [
    "df.describe()"
   ]
  },
  {
   "cell_type": "code",
   "execution_count": 34,
   "id": "0e153da0",
   "metadata": {},
   "outputs": [
    {
     "data": {
      "text/plain": [
       "array([[0.        , 0.        , 0.        ],\n",
       "       [0.14285714, 0.6       , 0.14285714],\n",
       "       [0.42857143, 0.42857143, 0.40714286],\n",
       "       [0.57142857, 0.6       , 0.57142857],\n",
       "       [0.71428571, 0.71428571,        nan],\n",
       "       [0.85714286, 0.85714286, 0.85714286],\n",
       "       [1.        , 1.        , 1.        ]])"
      ]
     },
     "execution_count": 34,
     "metadata": {},
     "output_type": "execute_result"
    }
   ],
   "source": [
    "preprocessing.MinMaxScaler().fit_transform(dataSet5)"
   ]
  },
  {
   "cell_type": "code",
   "execution_count": 35,
   "id": "d38f0d7d",
   "metadata": {},
   "outputs": [
    {
     "data": {
      "text/plain": [
       "array([[20., 63., 44.],\n",
       "       [79., 78., 28.],\n",
       "       [28., 81., 96.],\n",
       "       [88., 36., 51.],\n",
       "       [69., 72., 38.],\n",
       "       [57., 51.,  2.],\n",
       "       [78., 89., 37.],\n",
       "       [62.,  8., 37.],\n",
       "       [94., 66., 40.],\n",
       "       [79., 32., 57.]])"
      ]
     },
     "execution_count": 35,
     "metadata": {},
     "output_type": "execute_result"
    }
   ],
   "source": [
    "np.random.seed(1234)\n",
    "toScaleDS = np.ceil(100 * np.random.rand (10,3))\n",
    "toScaleDS"
   ]
  },
  {
   "cell_type": "code",
   "execution_count": 36,
   "id": "af976a34",
   "metadata": {},
   "outputs": [
    {
     "data": {
      "text/plain": [
       "57.6"
      ]
     },
     "execution_count": 36,
     "metadata": {},
     "output_type": "execute_result"
    }
   ],
   "source": [
    "# Get the average of the values in the second column:\n",
    "toScaleDS[:,1].mean()"
   ]
  },
  {
   "cell_type": "code",
   "execution_count": 37,
   "id": "da5540d6",
   "metadata": {},
   "outputs": [
    {
     "data": {
      "text/plain": [
       "29.169999809545573"
      ]
     },
     "execution_count": 37,
     "metadata": {},
     "output_type": "execute_result"
    }
   ],
   "source": [
    "# Get the standard deviation across the third row:\n",
    "toScaleDS[2,:].std()"
   ]
  },
  {
   "cell_type": "code",
   "execution_count": 38,
   "id": "870d53bf",
   "metadata": {},
   "outputs": [
    {
     "data": {
      "text/plain": [
       "array([[-1.95146565,  0.22264681,  0.04435909],\n",
       "       [ 0.58458002,  0.84111018, -0.66538641],\n",
       "       [-1.60759505,  0.96480286,  2.35103199],\n",
       "       [ 0.97143444, -0.89058725,  0.35487275],\n",
       "       [ 0.15474177,  0.59372484, -0.22179547],\n",
       "       [-0.36106413, -0.27212388, -1.81872286],\n",
       "       [ 0.54159619,  1.29464999, -0.26615457],\n",
       "       [-0.146145  , -2.04505221, -0.26615457],\n",
       "       [ 1.22933739,  0.34633949, -0.13307728],\n",
       "       [ 0.58458002, -1.05551082,  0.62102732]])"
      ]
     },
     "execution_count": 38,
     "metadata": {},
     "output_type": "execute_result"
    }
   ],
   "source": [
    "# Enter the following command to apply z-score normalization transformation:\n",
    "from sklearn import preprocessing\n",
    "scaledDS = preprocessing.scale(toScaleDS)\n",
    "scaledDS"
   ]
  },
  {
   "cell_type": "code",
   "execution_count": 39,
   "id": "1749017e",
   "metadata": {},
   "outputs": [
    {
     "data": {
      "text/plain": [
       "array([-2.22044605e-16, -6.66133815e-17,  1.11022302e-17])"
      ]
     },
     "execution_count": 39,
     "metadata": {},
     "output_type": "execute_result"
    }
   ],
   "source": [
    "np.mean(scaledDS, axis = 0)"
   ]
  },
  {
   "cell_type": "code",
   "execution_count": 40,
   "id": "93dc567f",
   "metadata": {},
   "outputs": [
    {
     "data": {
      "text/plain": [
       "array([1., 1., 1.])"
      ]
     },
     "execution_count": 40,
     "metadata": {},
     "output_type": "execute_result"
    }
   ],
   "source": [
    "np.std(scaledDS, axis = 0)"
   ]
  },
  {
   "cell_type": "code",
   "execution_count": 41,
   "id": "7d07665d",
   "metadata": {},
   "outputs": [
    {
     "data": {
      "text/plain": [
       "array([[0.        , 0.67901235, 0.44680851],\n",
       "       [0.7972973 , 0.86419753, 0.27659574],\n",
       "       [0.10810811, 0.90123457, 1.        ],\n",
       "       [0.91891892, 0.34567901, 0.5212766 ],\n",
       "       [0.66216216, 0.79012346, 0.38297872],\n",
       "       [0.5       , 0.5308642 , 0.        ],\n",
       "       [0.78378378, 1.        , 0.37234043],\n",
       "       [0.56756757, 0.        , 0.37234043],\n",
       "       [1.        , 0.71604938, 0.40425532],\n",
       "       [0.7972973 , 0.2962963 , 0.58510638]])"
      ]
     },
     "execution_count": 41,
     "metadata": {},
     "output_type": "execute_result"
    }
   ],
   "source": [
    "mmScaler = preprocessing.MinMaxScaler()\n",
    "mmScaler.fit_transform(toScaleDS)"
   ]
  },
  {
   "cell_type": "code",
   "execution_count": null,
   "id": "d0844f85",
   "metadata": {},
   "outputs": [],
   "source": []
  }
 ],
 "metadata": {
  "kernelspec": {
   "display_name": "Python 3 (ipykernel)",
   "language": "python",
   "name": "python3"
  },
  "language_info": {
   "codemirror_mode": {
    "name": "ipython",
    "version": 3
   },
   "file_extension": ".py",
   "mimetype": "text/x-python",
   "name": "python",
   "nbconvert_exporter": "python",
   "pygments_lexer": "ipython3",
   "version": "3.10.9"
  }
 },
 "nbformat": 4,
 "nbformat_minor": 5
}
