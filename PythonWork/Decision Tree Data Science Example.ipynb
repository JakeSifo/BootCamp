{
 "cells": [
  {
   "cell_type": "code",
   "execution_count": 20,
   "id": "f2660b66",
   "metadata": {},
   "outputs": [],
   "source": [
    "import pandas as pd\n",
    "from sklearn.tree import DecisionTreeClassifier\n",
    "from sklearn.model_selection import train_test_split\n",
    "from sklearn.metrics import accuracy_score\n",
    "import seaborn as sns\n",
    "import matplotlib.pyplot as plt\n",
    "import matplotlib.ticker as ticker\n",
    "\n",
    "# Create a sample dataset\n",
    "data = {\n",
    "    'Grade': ['A', 'B', 'C', 'A', 'B', 'C', 'A', 'C', 'B', 'A', 'C', 'A', 'B', 'C', 'A', 'B', 'C', 'A', 'B', 'C', 'D', 'F', 'D', 'F'],\n",
    "    'StudyTime': ['High', 'Low', 'Medium', 'High', 'Medium', 'Low', 'High', 'Medium', 'High', 'Medium', 'Low', 'High', 'Medium', 'Low', 'High', 'Medium', 'Low', 'High', 'Medium', 'Low', 'High', 'Medium', 'Low', 'High'],\n",
    "    'Score': [85, 70, 60, 90, 75, 65, 88, 58, 78, 92, 63, 87, 69, 73, 82, 91, 68, 74, 79, 55, 40, 30, 45, 35],\n",
    "    'Pass': [1, 1, 0, 1, 1, 0, 1, 0, 1, 1, 0, 1, 1, 0, 1, 1, 0, 1, 1, 0, 0, 0, 0, 0]\n",
    "}\n"
   ]
  },
  {
   "cell_type": "code",
   "execution_count": 39,
   "id": "16c92378",
   "metadata": {},
   "outputs": [
    {
     "name": "stdout",
     "output_type": "stream",
     "text": [
      "1.0\n",
      "            Feature  Importance\n",
      "0           Grade_A    0.000000\n",
      "1           Grade_B    0.000000\n",
      "2           Grade_C    0.415385\n",
      "3           Grade_D    0.239161\n",
      "4           Grade_F    0.345455\n",
      "5    StudyTime_High    0.000000\n",
      "6     StudyTime_Low    0.000000\n",
      "7  StudyTime_Medium    0.000000\n"
     ]
    }
   ],
   "source": [
    "df = pd.DataFrame(data)\n",
    "# print(df)\n",
    "\n",
    "df['PassOrFail'] = df['Pass'].apply(lambda x: 'Pass' if x == 1 else 'Fail')\n",
    "\n",
    "\n",
    "X = df[['Grade', 'StudyTime']]\n",
    "y = df['Pass']\n",
    "\n",
    "X_encoded = pd.get_dummies(X)\n",
    "# print(X_encoded)\n",
    "\n",
    "X_train, X_test, y_train, y_test = train_test_split(X_encoded, y, test_size=0.2, random_state=42)\n",
    "\n",
    "model = DecisionTreeClassifier()\n",
    "model.fit(X_train, y_train)\n",
    "\n",
    "y_pred = model.predict(X_test)\n",
    "accuracy = accuracy_score(y_test, y_pred)\n",
    "print(accuracy)\n",
    "\n",
    "importance = model.feature_importances_\n",
    "feature_importances = pd.DataFrame({'Feature': X_encoded.columns, 'Importance': importance})\n",
    "print(feature_importances)"
   ]
  },
  {
   "cell_type": "code",
   "execution_count": null,
   "id": "41e396f8",
   "metadata": {},
   "outputs": [],
   "source": []
  }
 ],
 "metadata": {
  "kernelspec": {
   "display_name": "Python 3 (ipykernel)",
   "language": "python",
   "name": "python3"
  },
  "language_info": {
   "codemirror_mode": {
    "name": "ipython",
    "version": 3
   },
   "file_extension": ".py",
   "mimetype": "text/x-python",
   "name": "python",
   "nbconvert_exporter": "python",
   "pygments_lexer": "ipython3",
   "version": "3.10.9"
  }
 },
 "nbformat": 4,
 "nbformat_minor": 5
}
