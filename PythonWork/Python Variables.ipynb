{
 "cells": [
  {
   "cell_type": "code",
   "execution_count": 7,
   "id": "cdeee94f",
   "metadata": {},
   "outputs": [],
   "source": [
    "quote = 'Blahg shall'\n",
    "idx = quote.find('shall')"
   ]
  },
  {
   "cell_type": "code",
   "execution_count": 8,
   "id": "2bc127ed",
   "metadata": {},
   "outputs": [
    {
     "data": {
      "text/plain": [
       "6"
      ]
     },
     "execution_count": 8,
     "metadata": {},
     "output_type": "execute_result"
    }
   ],
   "source": [
    "idx"
   ]
  },
  {
   "cell_type": "code",
   "execution_count": 23,
   "id": "73dcfed4",
   "metadata": {},
   "outputs": [
    {
     "name": "stdout",
     "output_type": "stream",
     "text": [
      "100\n",
      "99\n",
      "98\n",
      "97\n",
      "96\n",
      "95\n",
      "94\n",
      "93\n",
      "92\n",
      "91\n"
     ]
    }
   ],
   "source": [
    "for x in range(100,90,-1):\n",
    "    print(x)"
   ]
  },
  {
   "cell_type": "code",
   "execution_count": 36,
   "id": "631d9f46",
   "metadata": {},
   "outputs": [],
   "source": [
    "i = list(range(1000))"
   ]
  },
  {
   "cell_type": "code",
   "execution_count": 37,
   "id": "2a36a353",
   "metadata": {},
   "outputs": [
    {
     "name": "stdout",
     "output_type": "stream",
     "text": [
      "3.08 µs ± 150 ns per loop (mean ± std. dev. of 7 runs, 100,000 loops each)\n"
     ]
    }
   ],
   "source": [
    "%timeit a = [*i]"
   ]
  },
  {
   "cell_type": "code",
   "execution_count": 38,
   "id": "8de18b80",
   "metadata": {},
   "outputs": [
    {
     "name": "stdout",
     "output_type": "stream",
     "text": [
      "3.41 µs ± 168 ns per loop (mean ± std. dev. of 7 runs, 100,000 loops each)\n"
     ]
    }
   ],
   "source": [
    "%timeit a = i[:]"
   ]
  },
  {
   "cell_type": "code",
   "execution_count": 39,
   "id": "73485674",
   "metadata": {},
   "outputs": [
    {
     "name": "stdout",
     "output_type": "stream",
     "text": [
      "3.47 µs ± 298 ns per loop (mean ± std. dev. of 7 runs, 100,000 loops each)\n"
     ]
    }
   ],
   "source": [
    "%timeit a = i.copy()"
   ]
  },
  {
   "cell_type": "code",
   "execution_count": 40,
   "id": "4ec0b20f",
   "metadata": {},
   "outputs": [
    {
     "name": "stdout",
     "output_type": "stream",
     "text": [
      "39.3 µs ± 5.01 µs per loop (mean ± std. dev. of 7 runs, 10,000 loops each)\n"
     ]
    }
   ],
   "source": [
    "%timeit a = [x for x in i]"
   ]
  },
  {
   "cell_type": "code",
   "execution_count": 42,
   "id": "74e29256",
   "metadata": {},
   "outputs": [
    {
     "data": {
      "text/plain": [
       "[4, 16]"
      ]
     },
     "execution_count": 42,
     "metadata": {},
     "output_type": "execute_result"
    }
   ],
   "source": [
    "[ i**2 for i in range (1, 5) if (i % 2 == 0) ]"
   ]
  },
  {
   "cell_type": "code",
   "execution_count": 43,
   "id": "d39c9a71",
   "metadata": {},
   "outputs": [
    {
     "data": {
      "text/plain": [
       "['a->1:10', 'b->2:20', 'c->3:30', 'd->4:40', 'e->5:50']"
      ]
     },
     "execution_count": 43,
     "metadata": {},
     "output_type": "execute_result"
    }
   ],
   "source": [
    "x = [1,2,3,4,5]\n",
    "y = [10,20,30,40,50]\n",
    "z = ['a','b','c','d','e']\n",
    "\n",
    "[z + '->' + str(x) + ':' + str(y) for x, y, z in zip(x,y,z)]"
   ]
  },
  {
   "cell_type": "code",
   "execution_count": 44,
   "id": "2ef733ef",
   "metadata": {},
   "outputs": [],
   "source": [
    "?zip"
   ]
  }
 ],
 "metadata": {
  "kernelspec": {
   "display_name": "Python 3 (ipykernel)",
   "language": "python",
   "name": "python3"
  },
  "language_info": {
   "codemirror_mode": {
    "name": "ipython",
    "version": 3
   },
   "file_extension": ".py",
   "mimetype": "text/x-python",
   "name": "python",
   "nbconvert_exporter": "python",
   "pygments_lexer": "ipython3",
   "version": "3.10.9"
  }
 },
 "nbformat": 4,
 "nbformat_minor": 5
}
